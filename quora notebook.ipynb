{
 "cells": [
  {
   "cell_type": "code",
   "execution_count": 1,
   "id": "cfe06779",
   "metadata": {},
   "outputs": [],
   "source": [
    "import pandas as pd\n",
    "import numpy as np\n",
    "import matplotlib.pyplot as plt\n",
    "import seaborn as sns"
   ]
  },
  {
   "cell_type": "code",
   "execution_count": 2,
   "id": "353bd960",
   "metadata": {},
   "outputs": [],
   "source": [
    "df = pd.read_csv('quora question pairs.csv')"
   ]
  },
  {
   "cell_type": "code",
   "execution_count": 3,
   "id": "829ca50e",
   "metadata": {},
   "outputs": [
    {
     "data": {
      "text/plain": [
       "(404290, 6)"
      ]
     },
     "execution_count": 3,
     "metadata": {},
     "output_type": "execute_result"
    }
   ],
   "source": [
    "df.shape"
   ]
  },
  {
   "cell_type": "code",
   "execution_count": 4,
   "id": "dc3867c5",
   "metadata": {},
   "outputs": [
    {
     "data": {
      "text/html": [
       "<div>\n",
       "<style scoped>\n",
       "    .dataframe tbody tr th:only-of-type {\n",
       "        vertical-align: middle;\n",
       "    }\n",
       "\n",
       "    .dataframe tbody tr th {\n",
       "        vertical-align: top;\n",
       "    }\n",
       "\n",
       "    .dataframe thead th {\n",
       "        text-align: right;\n",
       "    }\n",
       "</style>\n",
       "<table border=\"1\" class=\"dataframe\">\n",
       "  <thead>\n",
       "    <tr style=\"text-align: right;\">\n",
       "      <th></th>\n",
       "      <th>id</th>\n",
       "      <th>qid1</th>\n",
       "      <th>qid2</th>\n",
       "      <th>question1</th>\n",
       "      <th>question2</th>\n",
       "      <th>is_duplicate</th>\n",
       "    </tr>\n",
       "  </thead>\n",
       "  <tbody>\n",
       "    <tr>\n",
       "      <th>219546</th>\n",
       "      <td>219546</td>\n",
       "      <td>311684</td>\n",
       "      <td>326448</td>\n",
       "      <td>How much does it cost to build an Android app ...</td>\n",
       "      <td>How much does it cost to build a news aggregat...</td>\n",
       "      <td>0</td>\n",
       "    </tr>\n",
       "    <tr>\n",
       "      <th>190508</th>\n",
       "      <td>190508</td>\n",
       "      <td>289616</td>\n",
       "      <td>289617</td>\n",
       "      <td>Is the liquid on Mars really water?</td>\n",
       "      <td>How do we know the ice on Mars is actually fro...</td>\n",
       "      <td>1</td>\n",
       "    </tr>\n",
       "    <tr>\n",
       "      <th>266462</th>\n",
       "      <td>266462</td>\n",
       "      <td>33412</td>\n",
       "      <td>82345</td>\n",
       "      <td>Why do so many people ask questions on Quora t...</td>\n",
       "      <td>Why does people here in Quora still ask some q...</td>\n",
       "      <td>1</td>\n",
       "    </tr>\n",
       "    <tr>\n",
       "      <th>4824</th>\n",
       "      <td>4824</td>\n",
       "      <td>9523</td>\n",
       "      <td>9524</td>\n",
       "      <td>What books can I read to learn more about secu...</td>\n",
       "      <td>Which books should I read to learn about Buddh...</td>\n",
       "      <td>0</td>\n",
       "    </tr>\n",
       "    <tr>\n",
       "      <th>133862</th>\n",
       "      <td>133862</td>\n",
       "      <td>214073</td>\n",
       "      <td>64315</td>\n",
       "      <td>How was the United Nations Security Council (p...</td>\n",
       "      <td>How would a permanent seat in the United Natio...</td>\n",
       "      <td>0</td>\n",
       "    </tr>\n",
       "    <tr>\n",
       "      <th>80523</th>\n",
       "      <td>80523</td>\n",
       "      <td>99190</td>\n",
       "      <td>15265</td>\n",
       "      <td>Why does 0! Equal 1?</td>\n",
       "      <td>Why is 0! equal to 1?</td>\n",
       "      <td>1</td>\n",
       "    </tr>\n",
       "    <tr>\n",
       "      <th>142415</th>\n",
       "      <td>142415</td>\n",
       "      <td>225852</td>\n",
       "      <td>225853</td>\n",
       "      <td>What are some TV shows similar to Black Mirror?</td>\n",
       "      <td>Could you reccomend a TV series that's similar...</td>\n",
       "      <td>1</td>\n",
       "    </tr>\n",
       "    <tr>\n",
       "      <th>22377</th>\n",
       "      <td>22377</td>\n",
       "      <td>42000</td>\n",
       "      <td>42001</td>\n",
       "      <td>What is the difference between concave and con...</td>\n",
       "      <td>How do concave and convex mirrors differ?</td>\n",
       "      <td>1</td>\n",
       "    </tr>\n",
       "    <tr>\n",
       "      <th>360331</th>\n",
       "      <td>360331</td>\n",
       "      <td>490112</td>\n",
       "      <td>490113</td>\n",
       "      <td>How can reading improve my English?</td>\n",
       "      <td>How can reading improve english?</td>\n",
       "      <td>1</td>\n",
       "    </tr>\n",
       "    <tr>\n",
       "      <th>305626</th>\n",
       "      <td>305626</td>\n",
       "      <td>44976</td>\n",
       "      <td>337272</td>\n",
       "      <td>How different and similar are the presidential...</td>\n",
       "      <td>What is the difference in the concept between ...</td>\n",
       "      <td>0</td>\n",
       "    </tr>\n",
       "  </tbody>\n",
       "</table>\n",
       "</div>"
      ],
      "text/plain": [
       "            id    qid1    qid2  \\\n",
       "219546  219546  311684  326448   \n",
       "190508  190508  289616  289617   \n",
       "266462  266462   33412   82345   \n",
       "4824      4824    9523    9524   \n",
       "133862  133862  214073   64315   \n",
       "80523    80523   99190   15265   \n",
       "142415  142415  225852  225853   \n",
       "22377    22377   42000   42001   \n",
       "360331  360331  490112  490113   \n",
       "305626  305626   44976  337272   \n",
       "\n",
       "                                                question1  \\\n",
       "219546  How much does it cost to build an Android app ...   \n",
       "190508                Is the liquid on Mars really water?   \n",
       "266462  Why do so many people ask questions on Quora t...   \n",
       "4824    What books can I read to learn more about secu...   \n",
       "133862  How was the United Nations Security Council (p...   \n",
       "80523                                Why does 0! Equal 1?   \n",
       "142415    What are some TV shows similar to Black Mirror?   \n",
       "22377   What is the difference between concave and con...   \n",
       "360331                How can reading improve my English?   \n",
       "305626  How different and similar are the presidential...   \n",
       "\n",
       "                                                question2  is_duplicate  \n",
       "219546  How much does it cost to build a news aggregat...             0  \n",
       "190508  How do we know the ice on Mars is actually fro...             1  \n",
       "266462  Why does people here in Quora still ask some q...             1  \n",
       "4824    Which books should I read to learn about Buddh...             0  \n",
       "133862  How would a permanent seat in the United Natio...             0  \n",
       "80523                               Why is 0! equal to 1?             1  \n",
       "142415  Could you reccomend a TV series that's similar...             1  \n",
       "22377           How do concave and convex mirrors differ?             1  \n",
       "360331                   How can reading improve english?             1  \n",
       "305626  What is the difference in the concept between ...             0  "
      ]
     },
     "execution_count": 4,
     "metadata": {},
     "output_type": "execute_result"
    }
   ],
   "source": [
    "df.sample(10)"
   ]
  },
  {
   "cell_type": "code",
   "execution_count": 5,
   "id": "64903a08",
   "metadata": {},
   "outputs": [
    {
     "name": "stdout",
     "output_type": "stream",
     "text": [
      "<class 'pandas.core.frame.DataFrame'>\n",
      "RangeIndex: 404290 entries, 0 to 404289\n",
      "Data columns (total 6 columns):\n",
      " #   Column        Non-Null Count   Dtype \n",
      "---  ------        --------------   ----- \n",
      " 0   id            404290 non-null  int64 \n",
      " 1   qid1          404290 non-null  int64 \n",
      " 2   qid2          404290 non-null  int64 \n",
      " 3   question1     404289 non-null  object\n",
      " 4   question2     404288 non-null  object\n",
      " 5   is_duplicate  404290 non-null  int64 \n",
      "dtypes: int64(4), object(2)\n",
      "memory usage: 18.5+ MB\n"
     ]
    }
   ],
   "source": [
    "df.info()"
   ]
  },
  {
   "cell_type": "code",
   "execution_count": 6,
   "id": "3a795e88",
   "metadata": {},
   "outputs": [
    {
     "data": {
      "text/plain": [
       "id              0\n",
       "qid1            0\n",
       "qid2            0\n",
       "question1       1\n",
       "question2       2\n",
       "is_duplicate    0\n",
       "dtype: int64"
      ]
     },
     "execution_count": 6,
     "metadata": {},
     "output_type": "execute_result"
    }
   ],
   "source": [
    "df.isnull().sum()"
   ]
  },
  {
   "cell_type": "code",
   "execution_count": 7,
   "id": "c71bbf37",
   "metadata": {},
   "outputs": [
    {
     "data": {
      "text/plain": [
       "0"
      ]
     },
     "execution_count": 7,
     "metadata": {},
     "output_type": "execute_result"
    }
   ],
   "source": [
    "df.duplicated().sum()"
   ]
  },
  {
   "cell_type": "code",
   "execution_count": 8,
   "id": "e31f31c1",
   "metadata": {},
   "outputs": [],
   "source": [
    "df.dropna(inplace=True)"
   ]
  },
  {
   "cell_type": "code",
   "execution_count": 9,
   "id": "f0addec2",
   "metadata": {},
   "outputs": [
    {
     "data": {
      "text/plain": [
       "id              0\n",
       "qid1            0\n",
       "qid2            0\n",
       "question1       0\n",
       "question2       0\n",
       "is_duplicate    0\n",
       "dtype: int64"
      ]
     },
     "execution_count": 9,
     "metadata": {},
     "output_type": "execute_result"
    }
   ],
   "source": [
    "df.isnull().sum()"
   ]
  },
  {
   "cell_type": "code",
   "execution_count": 10,
   "id": "0ff9628b",
   "metadata": {},
   "outputs": [
    {
     "name": "stdout",
     "output_type": "stream",
     "text": [
      "pairs distribution: \n",
      "0    255024\n",
      "1    149263\n",
      "Name: is_duplicate, dtype: int64\n",
      "percentage distribution: \n",
      "0    63.079941\n",
      "1    36.920059\n",
      "Name: is_duplicate, dtype: float64\n"
     ]
    },
    {
     "data": {
      "image/png": "[encoded data removed]",
      "text/plain": [
       "<Figure size 400x400 with 1 Axes>"
      ]
     },
     "metadata": {},
     "output_type": "display_data"
    }
   ],
   "source": [
    "#distribution of duplicates and non-duplicates in the dataset\n",
    "\n",
    "print('pairs distribution: ')\n",
    "print(df['is_duplicate'].value_counts())\n",
    "print('percentage distribution: ')\n",
    "print((df['is_duplicate'].value_counts()/df['is_duplicate'].count())* 100)\n",
    "plt.figure(figsize=(4, 4))\n",
    "df['is_duplicate'].value_counts().plot(kind='bar');"
   ]
  },
  {
   "cell_type": "code",
   "execution_count": 11,
   "id": "e2a793c2",
   "metadata": {},
   "outputs": [],
   "source": [
    "id1 = df['qid1'].tolist()\n",
    "id2 = df['qid2'].tolist()"
   ]
  },
  {
   "cell_type": "code",
   "execution_count": 12,
   "id": "ae19a422",
   "metadata": {},
   "outputs": [
    {
     "data": {
      "text/plain": [
       "404287"
      ]
     },
     "execution_count": 12,
     "metadata": {},
     "output_type": "execute_result"
    }
   ],
   "source": [
    "len(id1)"
   ]
  },
  {
   "cell_type": "code",
   "execution_count": 13,
   "id": "a0b8e287",
   "metadata": {},
   "outputs": [
    {
     "data": {
      "text/plain": [
       "404287"
      ]
     },
     "execution_count": 13,
     "metadata": {},
     "output_type": "execute_result"
    }
   ],
   "source": [
    "len(id2)"
   ]
  },
  {
   "cell_type": "code",
   "execution_count": 14,
   "id": "54faa112",
   "metadata": {},
   "outputs": [],
   "source": [
    "qid = pd.Series(id1 + id2)"
   ]
  },
  {
   "cell_type": "code",
   "execution_count": 15,
   "id": "23cf05f8",
   "metadata": {},
   "outputs": [
    {
     "data": {
      "text/plain": [
       "0              1\n",
       "1              3\n",
       "2              5\n",
       "3              7\n",
       "4              9\n",
       "           ...  \n",
       "808569    379845\n",
       "808570    155606\n",
       "808571    537929\n",
       "808572    537931\n",
       "808573    537933\n",
       "Length: 808574, dtype: int64"
      ]
     },
     "execution_count": 15,
     "metadata": {},
     "output_type": "execute_result"
    }
   ],
   "source": [
    "qid"
   ]
  },
  {
   "cell_type": "code",
   "execution_count": 19,
   "id": "3e0f10f3",
   "metadata": {},
   "outputs": [
    {
     "data": {
      "text/plain": [
       "2559      157\n",
       "30782     120\n",
       "4044      111\n",
       "2561       88\n",
       "14376      79\n",
       "         ... \n",
       "416446      1\n",
       "416444      1\n",
       "416441      1\n",
       "416439      1\n",
       "537933      1\n",
       "Length: 537929, dtype: int64"
      ]
     },
     "execution_count": 19,
     "metadata": {},
     "output_type": "execute_result"
    }
   ],
   "source": [
    "qid.value_counts()"
   ]
  },
  {
   "cell_type": "code",
   "execution_count": 30,
   "id": "e07a0d53",
   "metadata": {
    "scrolled": true
   },
   "outputs": [
    {
     "data": {
      "image/png": "[encoded data removed]",
      "text/plain": [
       "<Figure size 400x300 with 1 Axes>"
      ]
     },
     "metadata": {},
     "output_type": "display_data"
    }
   ],
   "source": [
    "# duplicate question plotting in histogram\n",
    "plt.figure(figsize=(4, 3))\n",
    "sns.axes_style(style='darkgrid')\n",
    "sns.histplot(qid.value_counts().values, bins=160 )\n",
    "plt.yscale(\"log\");"
   ]
  },
  {
   "cell_type": "code",
   "execution_count": null,
   "id": "7a9d326e",
   "metadata": {},
   "outputs": [],
   "source": []
  }
 ],
 "metadata": {
  "kernelspec": {
   "display_name": "Python 3 (ipykernel)",
   "language": "python",
   "name": "python3"
  },
  "language_info": {
   "codemirror_mode": {
    "name": "ipython",
    "version": 3
   },
   "file_extension": ".py",
   "mimetype": "text/x-python",
   "name": "python",
   "nbconvert_exporter": "python",
   "pygments_lexer": "ipython3",
   "version": "3.9.13"
  }
 },
 "nbformat": 4,
 "nbformat_minor": 5
}
